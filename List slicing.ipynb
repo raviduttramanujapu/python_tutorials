{
 "metadata": {
  "name": "",
  "signature": "sha256:1ebaedf523034f9a36960e7df85abbfa3cbcf30ebd49a5d6d829737d89fb7171"
 },
 "nbformat": 3,
 "nbformat_minor": 0,
 "worksheets": [
  {
   "cells": [
    {
     "cell_type": "markdown",
     "metadata": {},
     "source": [
      "### Indexing\n",
      "    >>> data = [10, 20, 30, 40, 50]\n",
      "    \n",
      "    >>> data[0] # Will gives the first element; Python indices starts with zero.\n",
      "    10\n",
      "    \n",
      "    >>> data[len(data)-1] # prints the last element\n",
      "    50\n",
      "    \n",
      "    >>> data[-1] # also prints the last element\n",
      "    50\n",
      "    \n",
      "Following image explains the indexes from front and from rear. \n",
      "<img src=\"list_indices.png\" width=\"400\">\n",
      "\n",
      "### Slicing\n",
      "Indexing just gives you one element based on the given index. If we want more than one element from the list, we need to slice it\n",
      "    >>> data[:] # prints all the elements in the list\n",
      "    [10, 20, 30, 40, 50]\n",
      "    \n",
      "    >>> data[:3] # prints first three elements from the list\n",
      "    [10, 20, 30]\n",
      "    \n",
      "    >>> data[3:] # prints all the elements except the first three\n",
      "    [40, 50]\n",
      "    \n",
      "    >>> data[2:4] # print 3rd and 4th element\n",
      "    [30, 40]\n",
      "Following image explains both indexing and slicing of list\n",
      "<img src=\"list_slicing.png\" width=\"400\">"
     ]
    },
    {
     "cell_type": "code",
     "collapsed": false,
     "input": [],
     "language": "python",
     "metadata": {},
     "outputs": []
    }
   ],
   "metadata": {}
  }
 ]
}